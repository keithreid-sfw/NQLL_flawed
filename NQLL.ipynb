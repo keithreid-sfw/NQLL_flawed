{
 "cells": [
  {
   "cell_type": "code",
   "execution_count": 16,
   "id": "7b9bd41f",
   "metadata": {},
   "outputs": [
    {
     "data": {
      "image/png": "[encoded data removed]",
      "text/plain": [
       "<Figure size 640x480 with 1 Axes>"
      ]
     },
     "metadata": {},
     "output_type": "display_data"
    }
   ],
   "source": [
    "\"\"\"\n",
    "NQLL-p\n",
    "N-queens linked lists python version\n",
    "Dr Keith Reid\n",
    "Coding Club\n",
    "Jan 2024\n",
    "\"\"\"\n",
    "\n",
    "import numpy as np\n",
    "import matplotlib.pyplot as plt\n",
    "\n",
    "class Config:\n",
    "    def __init__(self, n):\n",
    "        self.n = n\n",
    "\n",
    "class Node:\n",
    "    def __init__(self, x, y, prev, succ, flavour):        \n",
    "        self.x          = x\n",
    "        self.y          = y\n",
    "        self.prev       = prev\n",
    "        self.succ       = succ\n",
    "        self.flavour    = flavour\n",
    "\n",
    "def get_n():\n",
    "    n = 4\n",
    "    return n\n",
    "\n",
    "def get_config():\n",
    "    n      = get_n()\n",
    "    config = Config(n)\n",
    "    return config\n",
    "\n",
    "def init_dyad():\n",
    "    config   = get_config()\n",
    "    n        = config.n\n",
    "    # name     type  x    y   prev   succ   flav\n",
    "    alpha    = Node(0.5, -1, 'before',  None,   'A')\n",
    "    omega    = Node(0.5,  n,  None,   'after',  'O')\n",
    "    alpha.succ = omega\n",
    "    omega.prev = alpha\n",
    "    dyad       = [alpha, omega]\n",
    "    return dyad\n",
    "\n",
    "def draw(nodes):\n",
    "    config = get_config()\n",
    "    n      = config.n\n",
    "    xs = [n.x for n in nodes if n.flavour=='A']\n",
    "    ys = [n.y for n in nodes if n.flavour=='A']\n",
    "    plt.scatter(xs, ys, c='red', marker=\"$-$\")\n",
    "    xs = [n.x for n in nodes if n.flavour=='O']\n",
    "    ys = [n.y for n in nodes if n.flavour=='O']\n",
    "    plt.scatter(xs, ys, c='green', marker=\"$-$\")\n",
    "    plt.xlim([-0.5, n+0.5])\n",
    "    plt.show()\n",
    "    \n",
    "if __name__==\"__main__\":\n",
    "    config       = get_config()\n",
    "    dyad         = init_alpha_omega()\n",
    "    draw(dyad)\n",
    "    \n",
    "    "
   ]
  },
  {
   "cell_type": "code",
   "execution_count": 17,
   "id": "4a785b3e",
   "metadata": {},
   "outputs": [],
   "source": [
    "def read_node_path(this_node):\n",
    "    path           = []\n",
    "    this_node_xy   = [this_node.x, this_node.y]\n",
    "    path.append(this_node_xy)\n",
    "    while this_node.succ != 'after':\n",
    "        next_node = this_node.succ\n",
    "        next_x    = next_node.x\n",
    "        next_y    = next_node.y\n",
    "        next_xy   = [next_x, next_y]\n",
    "        path.append(next_xy)\n",
    "        this_node = next_node\n",
    "    return path\n",
    "    "
   ]
  },
  {
   "cell_type": "code",
   "execution_count": 18,
   "id": "5bf79942",
   "metadata": {},
   "outputs": [
    {
     "name": "stdout",
     "output_type": "stream",
     "text": [
      "Passed init alpha omega\n",
      "Passed all tests\n"
     ]
    }
   ],
   "source": [
    "def test_init_dyad():\n",
    "    dyad = init_dyad()\n",
    "    alpha = dyad[0]\n",
    "    omega = dyad[1]\n",
    "    assert isinstance(dyad, list)\n",
    "    assert isinstance(alpha, Node)\n",
    "    assert isinstance(omega, Node)\n",
    "    assert alpha != omega\n",
    "    assert alpha.flavour == 'A'\n",
    "    assert omega.flavour == 'O'\n",
    "    assert alpha.x == 0.5\n",
    "    assert alpha.y == -1\n",
    "    assert alpha.succ == omega\n",
    "    assert omega.prev == alpha\n",
    "    assert omega.x    == alpha.x\n",
    "    assert omega.y > alpha.y\n",
    "    print(\"Passed init alpha omega\")\n",
    "\n",
    "def tests():\n",
    "    test_init_dyad()\n",
    "    print(\"Passed all tests\")\n",
    "    \n",
    "tests()"
   ]
  },
  {
   "cell_type": "code",
   "execution_count": 22,
   "id": "b7386504",
   "metadata": {},
   "outputs": [
    {
     "name": "stdout",
     "output_type": "stream",
     "text": [
      "Passed read path from node\n"
     ]
    }
   ],
   "source": [
    "    \n",
    "def test_read_node_path():\n",
    "    n        = 4\n",
    "    dyad     = init_dyad()\n",
    "    alpha    = dyad[0]\n",
    "    path     = read_node_path(alpha)\n",
    "    assert path[0] == [0.5,-1]\n",
    "    assert path[1][0] == 0.5\n",
    "    \n",
    "    n            = 4\n",
    "    dyad         = init_dyad()\n",
    "    alpha        = dyad[0]\n",
    "    omega        = dyad[1]\n",
    "    beta         = Node(0, 0, alpha, omega, 'Q')\n",
    "    alpha.succ   = beta\n",
    "    omega.prev   = beta\n",
    "    path         = read_node_path(alpha)\n",
    "    assert path == [[0.5, -1], [0, 0], [0.5, 4]]\n",
    "    \n",
    "    n            = 4\n",
    "    dyad         = init_dyad()\n",
    "    alpha        = dyad[0]\n",
    "    omega        = dyad[1]\n",
    "    beta         = Node(1, 1, alpha, omega, 'Q')\n",
    "    alpha.succ   = beta\n",
    "    omega.prev   = beta\n",
    "    path         = read_node_path(alpha)\n",
    "    assert path == [[0.5, -1], [1, 1], [0.5, 4]]\n",
    "    \n",
    "    print(\"Passed read path from node\")\n",
    "    \n",
    "test_read_node_path()"
   ]
  },
  {
   "cell_type": "code",
   "execution_count": null,
   "id": "031a4529",
   "metadata": {},
   "outputs": [],
   "source": []
  }
 ],
 "metadata": {
  "kernelspec": {
   "display_name": "Python 3 (ipykernel)",
   "language": "python",
   "name": "python3"
  },
  "language_info": {
   "codemirror_mode": {
    "name": "ipython",
    "version": 3
   },
   "file_extension": ".py",
   "mimetype": "text/x-python",
   "name": "python",
   "nbconvert_exporter": "python",
   "pygments_lexer": "ipython3",
   "version": "3.11.6"
  }
 },
 "nbformat": 4,
 "nbformat_minor": 5
}
