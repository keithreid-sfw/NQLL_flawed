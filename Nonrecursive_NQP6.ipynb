{
 "cells": [
  {
   "cell_type": "code",
   "execution_count": 2,
   "id": "7ad97aa2",
   "metadata": {},
   "outputs": [
    {
     "data": {
      "image/png": "[encoded data removed]",
      "text/plain": [
       "<Figure size 640x480 with 1 Axes>"
      ]
     },
     "metadata": {},
     "output_type": "display_data"
    },
    {
     "data": {
      "image/png": "[encoded data removed]",
      "text/plain": [
       "<Figure size 640x480 with 1 Axes>"
      ]
     },
     "metadata": {},
     "output_type": "display_data"
    },
    {
     "data": {
      "image/png": "[encoded data removed]",
      "text/plain": [
       "<Figure size 640x480 with 1 Axes>"
      ]
     },
     "metadata": {},
     "output_type": "display_data"
    },
    {
     "data": {
      "image/png": "[encoded data removed]",
      "text/plain": [
       "<Figure size 640x480 with 1 Axes>"
      ]
     },
     "metadata": {},
     "output_type": "display_data"
    }
   ],
   "source": [
    "# libs\n",
    "\n",
    "import matplotlib.pyplot as plt\n",
    "import numpy as np\n",
    "\n",
    "# classes\n",
    "\n",
    "class Config:\n",
    "    def __init__(self, n):\n",
    "        self.n = n\n",
    "\n",
    "class Child:\n",
    "    def __init__(self, x, y, parent, children, heir):        \n",
    "        self.x          = x\n",
    "        self.y          = y\n",
    "        self.parent     = parent\n",
    "        self.children   = children\n",
    "        self.heir       = None\n",
    "        \n",
    "class Box:\n",
    "    \"\"\" box always is off board, has no parent, has n children at first\"\"\"\n",
    "    def __init__(self):\n",
    "        config          = get_config() \n",
    "        self.children   = [Child(x, 0, self, None, None) for x in range(config.n)]\n",
    "        self.heir       = None\n",
    "        \n",
    "# configs\n",
    "\n",
    "def get_config():\n",
    "    n       = get_n()\n",
    "    config  = Config(n)\n",
    "    return config\n",
    "\n",
    "def get_n():\n",
    "    n                   = 6\n",
    "    return n\n",
    "\n",
    "# model\n",
    "\n",
    "def count_diagonal_intersections(coords, current):\n",
    "    coords_x                = coords[0]\n",
    "    coords_y                = coords[1]\n",
    "    succ_height             = current.y+1\n",
    "    height                  = succ_height - coords_y\n",
    "    left_intersect_x        = coords_x   - height \n",
    "    right_intersect_x       = coords_x   + height\n",
    "    \n",
    "    return left_intersect_x, right_intersect_x \n",
    "\n",
    "def find_path_coords(box):\n",
    "    path_coords = []\n",
    "    index = box\n",
    "    while index.heir != None:\n",
    "        index           = index.heir\n",
    "        index_coords    = [index.x, index.y]\n",
    "        path_coords.append(index_coords)\n",
    "    return path_coords\n",
    "    \n",
    "def find_legal_children_of_index(box, index):\n",
    "    config             = get_config()\n",
    "    path_coords        = find_path_coords(box)\n",
    "    diagonal_bans      = []\n",
    "    \n",
    "    for i in path_coords:\n",
    "        diagonal_xs        = count_diagonal_intersections(i, index)\n",
    "        left = diagonal_xs[0]\n",
    "        diagonal_bans.append(left)\n",
    "        right = diagonal_xs[1]\n",
    "        diagonal_bans.append(right)\n",
    "    \n",
    "    path_xs            = [xy[0] for xy in path_coords]\n",
    "    any_children       = [Child(x, 1+index.y, index, None, None) for x in range(config.n)]\n",
    "    untaken_children   = [child for child in any_children if child.x not in path_xs]\n",
    "    not_diagonal       = [child for child in untaken_children if child.x not in diagonal_bans]\n",
    "    \n",
    "    return not_diagonal\n",
    "    \n",
    "# view\n",
    "\n",
    "def draw(path):\n",
    "    fig = plt.figure()\n",
    "    plt.xlim(-0.5, config.n-0.5)\n",
    "    plt.ylim(-0.5, config.n-0.5)\n",
    "    ax  = fig.gca()\n",
    "    ax.set_xticks(np.arange(-0.5, config.n+0.5, 1))\n",
    "    ax.set_yticks(np.arange(-0.5, config.n+0.5, 1))\n",
    "    plt.xticks(color='w')\n",
    "    plt.yticks(color='w')\n",
    "    plt.scatter([p[0] for p in path],[p[1] for p in path])\n",
    "    plt.grid()\n",
    "    plt.show()\n",
    "\n",
    "# control\n",
    "        \n",
    "if __name__ == \"__main__\":\n",
    "    \n",
    "    config                  = get_config()\n",
    "    box                     = Box()\n",
    "    while len(box.children) > 0:\n",
    "        box.heir           = box.children.pop(0) \n",
    "        box.heir.children  = find_legal_children_of_index(box, box.heir)\n",
    "        while len(box.heir.children) > 0:\n",
    "            \n",
    "            box.heir.heir           = box.heir.children.pop(0) \n",
    "            box.heir.heir.children  = find_legal_children_of_index(box, box.heir.heir)\n",
    "            while len(box.heir.heir.children) > 0:\n",
    "                \n",
    "                box.heir.heir.heir            = box.heir.heir.children.pop(0)\n",
    "                box.heir.heir.heir.children   = find_legal_children_of_index(box, box.heir.heir.heir)\n",
    "                while len(box.heir.heir.heir.children) > 0:\n",
    "                    \n",
    "                    box.heir.heir.heir.heir            = box.heir.heir.heir.children.pop(0)\n",
    "                    box.heir.heir.heir.heir.children   = find_legal_children_of_index(box, box.heir.heir.heir.heir)\n",
    "                    while len(box.heir.heir.heir.heir.children) > 0:\n",
    "                        \n",
    "                        box.heir.heir.heir.heir.heir            = box.heir.heir.heir.heir.children.pop(0)\n",
    "                        box.heir.heir.heir.heir.heir.children   = find_legal_children_of_index(box, box.heir.heir.heir.heir.heir)\n",
    "\n",
    "                        while len(box.heir.heir.heir.heir.heir.children) > 0:\n",
    "                        \n",
    "                            box.heir.heir.heir.heir.heir.heir            = box.heir.heir.heir.heir.heir.children.pop(0)\n",
    "                            box.heir.heir.heir.heir.heir.heir.children   = find_legal_children_of_index(box, box.heir.heir.heir.heir.heir.heir)     \n",
    "\n",
    "                            path            = find_path_coords(box)\n",
    "                            draw(path)"
   ]
  },
  {
   "cell_type": "code",
   "execution_count": 3,
   "id": "e1c04400",
   "metadata": {},
   "outputs": [
    {
     "name": "stdout",
     "output_type": "stream",
     "text": [
      "passed count diagonal intersections\n",
      "passed find legal children of index type test\n"
     ]
    }
   ],
   "source": [
    "def test_count_diagonal_intersections():\n",
    "    coords  = [2,2]\n",
    "    current = Child(4,3,None,None,None)\n",
    "    diagonal_intersections = count_diagonal_intersections(coords, current)\n",
    "    assert diagonal_intersections == (0,4)\n",
    "    print(\"passed count diagonal intersections\")\n",
    "\n",
    "def test_find_legal_children_of_index():\n",
    "    config                  = get_config()\n",
    "    box                     = Box()\n",
    "    while len(box.children) > 0:\n",
    "        lowest             = box.children.pop(0)\n",
    "        box.heir           = lowest\n",
    "        index              = lowest\n",
    "        children_of_index  = find_legal_children_of_index(box, index)\n",
    "        assert isinstance(children_of_index, list)\n",
    "        assert isinstance(children_of_index[0], Child)\n",
    "        assert isinstance(children_of_index[0].x, int)\n",
    "    print(\"passed find legal children of index type test\")\n",
    "\n",
    "def all_tests():\n",
    "    test_count_diagonal_intersections()\n",
    "    test_find_legal_children_of_index()\n",
    "\n",
    "all_tests()"
   ]
  },
  {
   "cell_type": "code",
   "execution_count": null,
   "id": "f509379c",
   "metadata": {},
   "outputs": [],
   "source": []
  }
 ],
 "metadata": {
  "kernelspec": {
   "display_name": "Python 3 (ipykernel)",
   "language": "python",
   "name": "python3"
  },
  "language_info": {
   "codemirror_mode": {
    "name": "ipython",
    "version": 3
   },
   "file_extension": ".py",
   "mimetype": "text/x-python",
   "name": "python",
   "nbconvert_exporter": "python",
   "pygments_lexer": "ipython3",
   "version": "3.11.6"
  }
 },
 "nbformat": 4,
 "nbformat_minor": 5
}
