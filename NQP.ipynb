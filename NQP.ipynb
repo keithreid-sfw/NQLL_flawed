{
 "cells": [
  {
   "cell_type": "code",
   "execution_count": 1,
   "id": "7ad97aa2",
   "metadata": {},
   "outputs": [],
   "source": [
    "# classes\n",
    "\n",
    "class Config:\n",
    "    def __init__(self, n):\n",
    "        self.n = n\n",
    "\n",
    "class Child:\n",
    "    def __init__(self, x, y, parent, children, heir):        \n",
    "        self.x          = x\n",
    "        self.y          = y\n",
    "        self.parent     = parent\n",
    "        self.children   = children\n",
    "        self.heir       = None\n",
    "        \n",
    "        \n",
    "class Box:\n",
    "    \"\"\" box always is off teh board, has no parent, has n children at first\"\"\"\n",
    "    def __init__(self):\n",
    "        config          = get_config() \n",
    "        self.children   = [Child(x, 0, self, None, None) for x in range(config.n)]\n",
    "        self.heir       = None\n",
    "        \n",
    "# configs\n",
    "\n",
    "def get_config():\n",
    "    n       = get_n()\n",
    "    config  = Config(n)\n",
    "    return config\n",
    "\n",
    "def get_n():\n",
    "    n                   = 4\n",
    "    return n"
   ]
  },
  {
   "cell_type": "code",
   "execution_count": 2,
   "id": "ba5fc286",
   "metadata": {},
   "outputs": [],
   "source": [
    "def find_path_coords(box, index):\n",
    "    \n",
    "    path_coords = []\n",
    "    while index.heir != None:\n",
    "        index           = index.heir\n",
    "        index_coords    = [index.x, index.y]\n",
    "        path_coords.append(index_coords)\n",
    "        \n",
    "    return path_coords\n",
    "    \n",
    "def find_legal_children_of_index(box, index):\n",
    "    config         = get_config()\n",
    "    path_coords    = find_path_coords() \n",
    "    path_xs        = [xy[0] for xy in path_coords]\n",
    "    any_children   = [Child(x, 1+index.y, index, None, None) for x in range(config.n)]\n",
    "    legal_children = [child for child in any_children if child.x not in path_xs]\n",
    "    \n",
    "    return legal_children\n",
    "    \n",
    "    "
   ]
  },
  {
   "cell_type": "code",
   "execution_count": 3,
   "id": "091911f4",
   "metadata": {},
   "outputs": [
    {
     "ename": "TypeError",
     "evalue": "find_path_coords() missing 2 required positional arguments: 'box' and 'index'",
     "output_type": "error",
     "traceback": [
      "\u001b[0;31m---------------------------------------------------------------------------\u001b[0m",
      "\u001b[0;31mTypeError\u001b[0m                                 Traceback (most recent call last)",
      "Cell \u001b[0;32mIn[3], line 15\u001b[0m\n\u001b[1;32m     13\u001b[0m box\u001b[38;5;241m.\u001b[39mheir        \u001b[38;5;241m=\u001b[39m lowest\n\u001b[1;32m     14\u001b[0m index           \u001b[38;5;241m=\u001b[39m lowest\n\u001b[0;32m---> 15\u001b[0m index\u001b[38;5;241m.\u001b[39mchildren  \u001b[38;5;241m=\u001b[39m \u001b[43mfind_legal_children_of_index\u001b[49m\u001b[43m(\u001b[49m\u001b[43mbox\u001b[49m\u001b[43m,\u001b[49m\u001b[43m \u001b[49m\u001b[43mindex\u001b[49m\u001b[43m)\u001b[49m\n\u001b[1;32m     17\u001b[0m \u001b[38;5;28;01mwhile\u001b[39;00m \u001b[38;5;28mlen\u001b[39m(index\u001b[38;5;241m.\u001b[39mchildren) \u001b[38;5;241m>\u001b[39m \u001b[38;5;241m0\u001b[39m:\n\u001b[1;32m     19\u001b[0m     lowest          \u001b[38;5;241m=\u001b[39m index\u001b[38;5;241m.\u001b[39mchildren\u001b[38;5;241m.\u001b[39mpop(\u001b[38;5;241m0\u001b[39m)\n",
      "Cell \u001b[0;32mIn[2], line 13\u001b[0m, in \u001b[0;36mfind_legal_children_of_index\u001b[0;34m(box, index)\u001b[0m\n\u001b[1;32m     11\u001b[0m \u001b[38;5;28;01mdef\u001b[39;00m \u001b[38;5;21mfind_legal_children_of_index\u001b[39m(box, index):\n\u001b[1;32m     12\u001b[0m     config         \u001b[38;5;241m=\u001b[39m get_config()\n\u001b[0;32m---> 13\u001b[0m     path_coords    \u001b[38;5;241m=\u001b[39m \u001b[43mfind_path_coords\u001b[49m\u001b[43m(\u001b[49m\u001b[43m)\u001b[49m \n\u001b[1;32m     14\u001b[0m     path_xs        \u001b[38;5;241m=\u001b[39m [xy[\u001b[38;5;241m0\u001b[39m] \u001b[38;5;28;01mfor\u001b[39;00m xy \u001b[38;5;129;01min\u001b[39;00m path_coords]\n\u001b[1;32m     15\u001b[0m     any_children   \u001b[38;5;241m=\u001b[39m [Child(x, \u001b[38;5;241m1\u001b[39m\u001b[38;5;241m+\u001b[39mindex\u001b[38;5;241m.\u001b[39my, index, \u001b[38;5;28;01mNone\u001b[39;00m, \u001b[38;5;28;01mNone\u001b[39;00m) \u001b[38;5;28;01mfor\u001b[39;00m x \u001b[38;5;129;01min\u001b[39;00m \u001b[38;5;28mrange\u001b[39m(config\u001b[38;5;241m.\u001b[39mn)]\n",
      "\u001b[0;31mTypeError\u001b[0m: find_path_coords() missing 2 required positional arguments: 'box' and 'index'"
     ]
    }
   ],
   "source": [
    "# control\n",
    "        \n",
    "if __name__ == \"__main__\":\n",
    "    \n",
    "    config                  = get_config()\n",
    "    box                     = Box()\n",
    "    \n",
    "    # destructively access children of box\n",
    "    \n",
    "    while len(box.children) > 0:\n",
    "        \n",
    "        lowest          = box.children.pop(0)\n",
    "        box.heir        = lowest\n",
    "        index           = lowest\n",
    "        index.children  = find_legal_children_of_index(box, index)\n",
    "        \n",
    "        while len(index.children) > 0:\n",
    "        \n",
    "            lowest          = index.children.pop(0)\n",
    "            box.heir        = lowest\n",
    "            index           = lowest\n",
    "            index.children  = find_legal_children_of_index(box, index)\n",
    "            \n",
    "            print(box)\n",
    "        \n",
    "        \n",
    "\n",
    "        \n",
    "        \n",
    "\n",
    "        "
   ]
  },
  {
   "cell_type": "code",
   "execution_count": 4,
   "id": "1d052dc5",
   "metadata": {},
   "outputs": [
    {
     "ename": "TypeError",
     "evalue": "find_path_coords() missing 2 required positional arguments: 'box' and 'index'",
     "output_type": "error",
     "traceback": [
      "\u001b[0;31m---------------------------------------------------------------------------\u001b[0m",
      "\u001b[0;31mTypeError\u001b[0m                                 Traceback (most recent call last)",
      "Cell \u001b[0;32mIn[4], line 18\u001b[0m\n\u001b[1;32m     14\u001b[0m         \u001b[38;5;28;01massert\u001b[39;00m \u001b[38;5;28misinstance\u001b[39m(children_of_index[\u001b[38;5;241m0\u001b[39m]\u001b[38;5;241m.\u001b[39mx, \u001b[38;5;28mint\u001b[39m)\n\u001b[1;32m     16\u001b[0m     \u001b[38;5;28mprint\u001b[39m(\u001b[38;5;124m\"\u001b[39m\u001b[38;5;124mpassed find legal children of index type test\u001b[39m\u001b[38;5;124m\"\u001b[39m)\n\u001b[0;32m---> 18\u001b[0m \u001b[43mtest_find_legal_children_of_index\u001b[49m\u001b[43m(\u001b[49m\u001b[43m)\u001b[49m\n",
      "Cell \u001b[0;32mIn[4], line 11\u001b[0m, in \u001b[0;36mtest_find_legal_children_of_index\u001b[0;34m()\u001b[0m\n\u001b[1;32m      9\u001b[0m box\u001b[38;5;241m.\u001b[39mheir           \u001b[38;5;241m=\u001b[39m lowest\n\u001b[1;32m     10\u001b[0m index              \u001b[38;5;241m=\u001b[39m lowest\n\u001b[0;32m---> 11\u001b[0m children_of_index  \u001b[38;5;241m=\u001b[39m \u001b[43mfind_legal_children_of_index\u001b[49m\u001b[43m(\u001b[49m\u001b[43mbox\u001b[49m\u001b[43m,\u001b[49m\u001b[43m \u001b[49m\u001b[43mindex\u001b[49m\u001b[43m)\u001b[49m\n\u001b[1;32m     12\u001b[0m \u001b[38;5;28;01massert\u001b[39;00m \u001b[38;5;28misinstance\u001b[39m(children_of_index, \u001b[38;5;28mlist\u001b[39m)\n\u001b[1;32m     13\u001b[0m \u001b[38;5;28;01massert\u001b[39;00m \u001b[38;5;28misinstance\u001b[39m(children_of_index[\u001b[38;5;241m0\u001b[39m], Child)\n",
      "Cell \u001b[0;32mIn[2], line 13\u001b[0m, in \u001b[0;36mfind_legal_children_of_index\u001b[0;34m(box, index)\u001b[0m\n\u001b[1;32m     11\u001b[0m \u001b[38;5;28;01mdef\u001b[39;00m \u001b[38;5;21mfind_legal_children_of_index\u001b[39m(box, index):\n\u001b[1;32m     12\u001b[0m     config         \u001b[38;5;241m=\u001b[39m get_config()\n\u001b[0;32m---> 13\u001b[0m     path_coords    \u001b[38;5;241m=\u001b[39m \u001b[43mfind_path_coords\u001b[49m\u001b[43m(\u001b[49m\u001b[43m)\u001b[49m \n\u001b[1;32m     14\u001b[0m     path_xs        \u001b[38;5;241m=\u001b[39m [xy[\u001b[38;5;241m0\u001b[39m] \u001b[38;5;28;01mfor\u001b[39;00m xy \u001b[38;5;129;01min\u001b[39;00m path_coords]\n\u001b[1;32m     15\u001b[0m     any_children   \u001b[38;5;241m=\u001b[39m [Child(x, \u001b[38;5;241m1\u001b[39m\u001b[38;5;241m+\u001b[39mindex\u001b[38;5;241m.\u001b[39my, index, \u001b[38;5;28;01mNone\u001b[39;00m, \u001b[38;5;28;01mNone\u001b[39;00m) \u001b[38;5;28;01mfor\u001b[39;00m x \u001b[38;5;129;01min\u001b[39;00m \u001b[38;5;28mrange\u001b[39m(config\u001b[38;5;241m.\u001b[39mn)]\n",
      "\u001b[0;31mTypeError\u001b[0m: find_path_coords() missing 2 required positional arguments: 'box' and 'index'"
     ]
    }
   ],
   "source": [
    "def test_find_legal_children_of_index():\n",
    "    config                  = get_config()\n",
    "    box                     = Box()\n",
    "    # destructively access children of box\n",
    "    # degenerate test using n4\n",
    "    \n",
    "    while len(box.children) > 0:\n",
    "        lowest             = box.children.pop(0)\n",
    "        box.heir           = lowest\n",
    "        index              = lowest\n",
    "        children_of_index  = find_legal_children_of_index(box, index)\n",
    "        assert isinstance(children_of_index, list)\n",
    "        assert isinstance(children_of_index[0], Child)\n",
    "        assert isinstance(children_of_index[0].x, int)\n",
    "    \n",
    "    print(\"passed find legal children of index type test\")\n",
    "    \n",
    "test_find_legal_children_of_index()\n",
    "        \n",
    "        "
   ]
  },
  {
   "cell_type": "code",
   "execution_count": null,
   "id": "b18b001d",
   "metadata": {},
   "outputs": [],
   "source": []
  }
 ],
 "metadata": {
  "kernelspec": {
   "display_name": "Python 3 (ipykernel)",
   "language": "python",
   "name": "python3"
  },
  "language_info": {
   "codemirror_mode": {
    "name": "ipython",
    "version": 3
   },
   "file_extension": ".py",
   "mimetype": "text/x-python",
   "name": "python",
   "nbconvert_exporter": "python",
   "pygments_lexer": "ipython3",
   "version": "3.11.6"
  }
 },
 "nbformat": 4,
 "nbformat_minor": 5
}
