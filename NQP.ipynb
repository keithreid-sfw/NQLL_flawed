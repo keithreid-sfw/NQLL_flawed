{
 "cells": [
  {
   "cell_type": "code",
   "execution_count": 12,
   "id": "7ad97aa2",
   "metadata": {},
   "outputs": [],
   "source": [
    "# classes\n",
    "\n",
    "class Config:\n",
    "    def __init__(self, n):\n",
    "        self.n = n\n",
    "\n",
    "class Child:\n",
    "    def __init__(self, x, y, parent, children, heir):        \n",
    "        self.x          = x\n",
    "        self.y          = y\n",
    "        self.parent     = parent\n",
    "        self.children   = children\n",
    "        self.heir       = None\n",
    "        \n",
    "        \n",
    "class Box:\n",
    "    \"\"\" box always is off teh board, has no parent, has n children at first\"\"\"\n",
    "    def __init__(self):\n",
    "        config          = get_config() \n",
    "        self.children   = [Child(x, 0, self, None, None) for x in range(config.n)]\n",
    "        self.heir       = None\n",
    "        \n",
    "# configs\n",
    "\n",
    "def get_config():\n",
    "    n       = get_n()\n",
    "    config  = Config(n)\n",
    "    return config\n",
    "\n",
    "def get_n():\n",
    "    n                   = 4\n",
    "    return n"
   ]
  },
  {
   "cell_type": "code",
   "execution_count": 15,
   "id": "ba5fc286",
   "metadata": {},
   "outputs": [],
   "source": [
    "def find_path_coords(box):\n",
    "    path_coords = []\n",
    "    index = box\n",
    "    while index.heir != None:\n",
    "        index           = index.heir\n",
    "        index_coords    = [index.x, index.y]\n",
    "        path_coords.append(index_coords)\n",
    "        \n",
    "    return path_coords\n",
    "    \n",
    "def find_legal_children_of_index(box, index):\n",
    "    config         = get_config()\n",
    "    path_coords    = find_path_coords(box) \n",
    "    path_xs        = [xy[0] for xy in path_coords]\n",
    "    any_children   = [Child(x, 1+index.y, index, None, None) for x in range(config.n)]\n",
    "    legal_children = [child for child in any_children if child.x not in path_xs]\n",
    "    \n",
    "    return legal_children\n",
    "    \n",
    "    "
   ]
  },
  {
   "cell_type": "code",
   "execution_count": 16,
   "id": "091911f4",
   "metadata": {},
   "outputs": [],
   "source": [
    "# control\n",
    "        \n",
    "if __name__ == \"__main__\":\n",
    "    \n",
    "    config                  = get_config()\n",
    "    box                     = Box()\n",
    "    \n",
    "    print(\"We have a box with four n peices.\")\n",
    "    \n",
    "    # destructively access children of box\n",
    "    \n",
    "    while len(box.children) > 0:\n",
    "        \n",
    "        print(\"It still has some options\")\n",
    "        print(\"The lowest is the heir\")\n",
    "        lowest          = box.children.pop(0)\n",
    "        box.heir        = lowest\n",
    "        find_path_coords(box)\n",
    "        \n",
    "        \n",
    "        index           = lowest\n",
    "        index.children  = find_legal_children_of_index(box, index)\n",
    "\n",
    "        #while len(index.children) > 0:\n",
    "        \n",
    "        #    lowest          = index.children.pop(0)\n",
    "         #   box.heir        = lowest\n",
    "        #    index           = lowest\n",
    "          #  index.children  = find_legal_children_of_index(box, index)\n",
    "            \n",
    "          #  print(box)\n",
    "        \n",
    "        \n",
    "\n",
    "        \n",
    "        \n",
    "\n",
    "        "
   ]
  },
  {
   "cell_type": "code",
   "execution_count": 17,
   "id": "1d052dc5",
   "metadata": {},
   "outputs": [
    {
     "name": "stdout",
     "output_type": "stream",
     "text": [
      "passed find legal children of index type test\n"
     ]
    }
   ],
   "source": [
    "def test_find_legal_children_of_index():\n",
    "    config                  = get_config()\n",
    "    box                     = Box()\n",
    "    # destructively access children of box\n",
    "    # degenerate test using n4\n",
    "    \n",
    "    while len(box.children) > 0:\n",
    "        lowest             = box.children.pop(0)\n",
    "        box.heir           = lowest\n",
    "        index              = lowest\n",
    "        children_of_index  = find_legal_children_of_index(box, index)\n",
    "        assert isinstance(children_of_index, list)\n",
    "        assert isinstance(children_of_index[0], Child)\n",
    "        assert isinstance(children_of_index[0].x, int)\n",
    "    \n",
    "    print(\"passed find legal children of index type test\")\n",
    "    \n",
    "test_find_legal_children_of_index()\n",
    "        \n",
    "        "
   ]
  },
  {
   "cell_type": "code",
   "execution_count": null,
   "id": "b18b001d",
   "metadata": {},
   "outputs": [],
   "source": []
  }
 ],
 "metadata": {
  "kernelspec": {
   "display_name": "Python 3 (ipykernel)",
   "language": "python",
   "name": "python3"
  },
  "language_info": {
   "codemirror_mode": {
    "name": "ipython",
    "version": 3
   },
   "file_extension": ".py",
   "mimetype": "text/x-python",
   "name": "python",
   "nbconvert_exporter": "python",
   "pygments_lexer": "ipython3",
   "version": "3.11.6"
  }
 },
 "nbformat": 4,
 "nbformat_minor": 5
}
